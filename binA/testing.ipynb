{
 "cells": [
  {
   "cell_type": "code",
   "execution_count": 2,
   "metadata": {},
   "outputs": [
    {
     "name": "stdout",
     "output_type": "stream",
     "text": [
      "Downloading http://snap.stanford.edu/ogb/data/nodeproppred/arxiv.zip\n"
     ]
    },
    {
     "name": "stderr",
     "output_type": "stream",
     "text": [
      "Downloaded 0.08 GB: 100%|██████████| 81/81 [00:16<00:00,  5.00it/s]\n"
     ]
    },
    {
     "name": "stdout",
     "output_type": "stream",
     "text": [
      "Extracting /Users/dgermen/Documents/Projects/TuneUp/ogb_datasets/arxiv.zip\n",
      "Loading necessary files...\n",
      "This might take a while.\n",
      "Processing graphs...\n"
     ]
    },
    {
     "name": "stderr",
     "output_type": "stream",
     "text": [
      "100%|██████████| 1/1 [00:00<00:00, 25731.93it/s]"
     ]
    },
    {
     "name": "stdout",
     "output_type": "stream",
     "text": [
      "Saving...\n"
     ]
    },
    {
     "name": "stderr",
     "output_type": "stream",
     "text": [
      "\n"
     ]
    }
   ],
   "source": [
    "\n",
    "from ogb.nodeproppred import Evaluator, NodePropPredDataset\n",
    "from spektral.datasets.ogb import OGB\n",
    "from spektral.transforms import AdjToSpTensor, GCNFilter\n",
    "import os\n",
    "\n",
    "\n",
    "dataset_name = \"ogbn-arxiv\"\n",
    "current_directory = os.getcwd()\n",
    "parent_directory = os.path.abspath(os.path.join(current_directory, os.pardir))\n",
    "download_root = os.path.join(parent_directory, \"dataset\")  # Specify the desired parent directory\n",
    "\n",
    "ogb_dataset = NodePropPredDataset(dataset_name, root=download_root)\n",
    "\n",
    "dataset = OGB(ogb_dataset, transforms=[GCNFilter(), AdjToSpTensor()])"
   ]
  }
 ],
 "metadata": {
  "kernelspec": {
   "display_name": "TUI",
   "language": "python",
   "name": "python3"
  },
  "language_info": {
   "codemirror_mode": {
    "name": "ipython",
    "version": 3
   },
   "file_extension": ".py",
   "mimetype": "text/x-python",
   "name": "python",
   "nbconvert_exporter": "python",
   "pygments_lexer": "ipython3",
   "version": "3.11.3"
  },
  "orig_nbformat": 4
 },
 "nbformat": 4,
 "nbformat_minor": 2
}
