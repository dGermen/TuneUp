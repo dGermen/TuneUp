{
 "cells": [
  {
   "cell_type": "code",
   "execution_count": 1,
   "metadata": {},
   "outputs": [],
   "source": [
    "import train_controller\n"
   ]
  },
  {
   "cell_type": "code",
   "execution_count": null,
   "metadata": {},
   "outputs": [],
   "source": [
    "\n",
    "a = train_controller.train_controller()"
   ]
  },
  {
   "cell_type": "code",
   "execution_count": 4,
   "metadata": {},
   "outputs": [
    {
     "name": "stdout",
     "output_type": "stream",
     "text": [
      "[(1, 0.7) (2, 0.2) (3, 0.7)]\n"
     ]
    }
   ],
   "source": [
    "import numpy as np\n",
    "\n",
    "def analyzer(recall_at_k, node_degrees):\n",
    "    # Assuming recall_at_k is a 2D array where each row contains [node_index, recall_value]\n",
    "    # Assuming node_degrees is an array where each element is the degree of the corresponding node\n",
    "    \n",
    "    # First, let's find unique degrees\n",
    "    unique_degrees = set(node_degrees)\n",
    "    \n",
    "    # Create an empty list to store degree-recall pairs\n",
    "    degree_recall = []\n",
    "\n",
    "    # Loop through each unique degree\n",
    "    for degree in unique_degrees:\n",
    "        # Find indices of nodes with this degree\n",
    "        indices_with_degree = [i for i, deg in enumerate(node_degrees) if deg == degree]\n",
    "        \n",
    "        # Calculate average recall for nodes with this degree\n",
    "        avg_recall = np.mean([recall_at_k[i, 1] for i in indices_with_degree])\n",
    "        \n",
    "        # Append degree and average recall to the list\n",
    "        degree_recall.append((degree, avg_recall))\n",
    "\n",
    "    # Convert the list to a numpy array\n",
    "    degree_recall_array = np.array(degree_recall, dtype=[('degree', int), ('recall', float)])\n",
    "    \n",
    "    # Sort the array by degree\n",
    "    degree_recall_array = np.sort(degree_recall_array, order='degree')\n",
    "    \n",
    "    return degree_recall_array\n",
    "\n",
    "# Example data\n",
    "recall_at_k = np.array([[0, 0.1], [1, 0.5], [2, 0.3], [3, 0.7], [4, 0.9]])\n",
    "node_degrees = np.array([2, 3, 2, 1, 3])\n",
    "\n",
    "# Call the analyzer function with example data\n",
    "result = analyzer(recall_at_k, node_degrees)\n",
    "\n",
    "# Print the result\n",
    "print(result)\n"
   ]
  },
  {
   "cell_type": "code",
   "execution_count": 5,
   "metadata": {},
   "outputs": [
    {
     "name": "stdout",
     "output_type": "stream",
     "text": [
      "[[1.  0.7]\n",
      " [2.  0.2]\n",
      " [3.  0.7]]\n"
     ]
    },
    {
     "name": "stderr",
     "output_type": "stream",
     "text": [
      "/var/folders/k2/mmnsl0v1443297g72q3p30cw0000gn/T/ipykernel_81293/1701105663.py:13: RuntimeWarning: invalid value encountered in divide\n",
      "  avg_recalls = sums / counts\n"
     ]
    }
   ],
   "source": [
    "import numpy as np\n",
    "\n",
    "def analyzer(recall_at_k, node_degrees):\n",
    "    # Assuming recall_at_k is a 2D array where each row contains [node_index, recall_value]\n",
    "    # Assuming node_degrees is an array where each element is the degree of the corresponding node\n",
    "    \n",
    "    # Find unique degrees\n",
    "    unique_degrees = np.unique(node_degrees)\n",
    "    \n",
    "    # Calculate average recalls for each unique degree using vectorized operations\n",
    "    sums = np.bincount(node_degrees, weights=recall_at_k[:, 1])\n",
    "    counts = np.bincount(node_degrees)\n",
    "    avg_recalls = sums / counts\n",
    "    \n",
    "    # Filter out NaN values (when counts is 0)\n",
    "    avg_recalls = avg_recalls[np.isfinite(avg_recalls)]\n",
    "    \n",
    "    # Stack unique_degrees and avg_recalls into a 2D array\n",
    "    degree_recall_array = np.column_stack((unique_degrees, avg_recalls))\n",
    "    \n",
    "    return degree_recall_array\n",
    "\n",
    "# Example data\n",
    "recall_at_k = np.array([[0, 0.1], [1, 0.5], [2, 0.3], [3, 0.7], [4, 0.9]])\n",
    "node_degrees = np.array([2, 3, 2, 1, 3])\n",
    "\n",
    "# Call the analyzer function with example data\n",
    "result = analyzer(recall_at_k, node_degrees)\n",
    "\n",
    "# Print the result\n",
    "print(result)\n"
   ]
  }
 ],
 "metadata": {
  "kernelspec": {
   "display_name": "TUI",
   "language": "python",
   "name": "python3"
  },
  "language_info": {
   "codemirror_mode": {
    "name": "ipython",
    "version": 3
   },
   "file_extension": ".py",
   "mimetype": "text/x-python",
   "name": "python",
   "nbconvert_exporter": "python",
   "pygments_lexer": "ipython3",
   "version": "3.11.3"
  },
  "orig_nbformat": 4
 },
 "nbformat": 4,
 "nbformat_minor": 2
}
